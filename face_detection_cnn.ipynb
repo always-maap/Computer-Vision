{
 "cells": [
  {
   "cell_type": "code",
   "execution_count": 1,
   "metadata": {},
   "outputs": [
    {
     "name": "stderr",
     "output_type": "stream",
     "text": [
      "2024-01-29 22:43:33.328455: I tensorflow/core/platform/cpu_feature_guard.cc:182] This TensorFlow binary is optimized to use available CPU instructions in performance-critical operations.\n",
      "To enable the following instructions: AVX2 FMA, in other operations, rebuild TensorFlow with the appropriate compiler flags.\n"
     ]
    }
   ],
   "source": [
    "import tensorflow as tf\n",
    "from keras.preprocessing.image import ImageDataGenerator\n",
    "from sklearn.metrics import accuracy_score, f1_score\n",
    "import keras as k\n",
    "import pandas as pd\n",
    "import matplotlib.pyplot as plt"
   ]
  },
  {
   "cell_type": "code",
   "execution_count": 2,
   "metadata": {},
   "outputs": [],
   "source": [
    "subsets = {\n",
    "    1: [1, 7, 8, 9, 36, 37],\n",
    "    2: [2, 5, 10, 11, 12, 13, 15, 39, 40, 41, 42, 44, 38, 65],\n",
    "    3: [3, 6, 14, 16, 17, 19, 20, 43, 45, 46, 48, 49],\n",
    "    4: [18, 21, 22, 23, 24, 25, 26, 47, 50, 51, 52, 53, 54, 55],\n",
    "    5: [4, 27, 28, 29, 30, 31, 32, 33, 34, 35, 56, 57, 58, 59, 60, 61, 62, 63, 64],\n",
    "}\n",
    "\n",
    "label = \"0\"\n",
    "train_df = pd.DataFrame(columns=['path', 'label'])\n",
    "for i in subsets[1] + subsets[3] + subsets[4] + subsets[5]:\n",
    "    new_df = pd.DataFrame({'path': ['YaleB/B01P00/' + str(i) + '.tif'], 'label': [label]})\n",
    "    train_df = pd.concat([train_df, new_df], ignore_index=True)\n",
    "\n",
    "label = \"1\"\n",
    "for i in subsets[1] + subsets[3] + subsets[4] + subsets[5]:\n",
    "    new_df = pd.DataFrame({'path': ['YaleB/B02P00/' + str(i) + '.tif'], 'label': [label]})\n",
    "    train_df = pd.concat([train_df, new_df], ignore_index=True)\n",
    "\n",
    "\n",
    "\n",
    "label = \"0\"\n",
    "test_df = pd.DataFrame(columns=['path', 'label'])\n",
    "for i in subsets[2]:\n",
    "    new_df = pd.DataFrame({'path': ['YaleB/B01P00/' + str(i) + '.tif'], 'label': [label]})\n",
    "    test_df = pd.concat([test_df, new_df], ignore_index=True)\n",
    "\n",
    "label = \"1\"\n",
    "for i in subsets[2]:\n",
    "    new_df = pd.DataFrame({'path': ['YaleB/B02P00/' + str(i) + '.tif'], 'label': [label]})\n",
    "    test_df = pd.concat([test_df, new_df], ignore_index=True)"
   ]
  },
  {
   "cell_type": "code",
   "execution_count": 3,
   "metadata": {},
   "outputs": [
    {
     "name": "stdout",
     "output_type": "stream",
     "text": [
      "Found 102 validated image filenames belonging to 2 classes.\n",
      "Found 28 validated image filenames belonging to 2 classes.\n"
     ]
    }
   ],
   "source": [
    "train_datagen = ImageDataGenerator(\n",
    "    rotation_range=20,\n",
    "    width_shift_range=0.2,\n",
    "    height_shift_range=0.2,\n",
    "    # Sharpening\n",
    "    shear_range=0.2,\n",
    "    zoom_range=0.2,\n",
    "    # Flipping\n",
    "    horizontal_flip=True,\n",
    "    vertical_flip=True,\n",
    ")\n",
    "\n",
    "training_set = train_datagen.flow_from_dataframe(\n",
    "    dataframe=train_df,\n",
    "    directory=\"./\",\n",
    "    x_col=\"path\",\n",
    "    y_col=\"label\",\n",
    "    target_size=(160, 160),\n",
    "    batch_size=8,\n",
    "    class_mode=\"binary\",\n",
    ")\n",
    "\n",
    "test_datagen = ImageDataGenerator()\n",
    "\n",
    "test_set = test_datagen.flow_from_dataframe(\n",
    "    dataframe=test_df,\n",
    "    directory=\"./\",\n",
    "    x_col=\"path\",\n",
    "    y_col=\"label\",\n",
    "    target_size=(160, 160),\n",
    "    batch_size=8,\n",
    "    class_mode=\"binary\",\n",
    ")"
   ]
  },
  {
   "cell_type": "code",
   "execution_count": 4,
   "metadata": {},
   "outputs": [],
   "source": [
    "cnn = k.models.Sequential()\n",
    "\n",
    "cnn.add(k.layers.Conv2D(filters=16, kernel_size=3, input_shape=[160, 160, 3], kernel_regularizer=k.regularizers.l2(0.001)))\n",
    "cnn.add(k.layers.BatchNormalization())\n",
    "cnn.add(k.layers.Activation(\"relu\"))\n",
    "cnn.add(k.layers.MaxPool2D(pool_size=4, strides=4))\n",
    "\n",
    "cnn.add(k.layers.Conv2D(filters=32, kernel_size=3, kernel_regularizer=k.regularizers.l2(0.001)))\n",
    "cnn.add(k.layers.BatchNormalization())\n",
    "cnn.add(k.layers.Activation(\"relu\"))\n",
    "cnn.add(k.layers.MaxPool2D(pool_size=2, strides=2))\n",
    "\n",
    "cnn.add(k.layers.Conv2D(filters=64, kernel_size=3, kernel_regularizer=k.regularizers.l2(0.001)))\n",
    "cnn.add(k.layers.BatchNormalization())\n",
    "cnn.add(k.layers.Activation(\"relu\"))\n",
    "cnn.add(k.layers.AveragePooling2D(pool_size=2, strides=2))\n",
    "\n",
    "cnn.add(k.layers.Flatten())\n",
    "\n",
    "cnn.add(k.layers.Dense(units=256, kernel_regularizer=k.regularizers.l2(0.001), activation=\"relu\"))\n",
    "cnn.add(k.layers.Dense(units=148, kernel_regularizer=k.regularizers.l2(0.001)))\n",
    "cnn.add(k.layers.Dense(units=1, kernel_regularizer=k.regularizers.l2(0.001), activation=\"sigmoid\"))\n",
    "\n",
    "cnn.compile(\n",
    "    optimizer=k.optimizers.Adam(learning_rate=0.001),\n",
    "    loss=\"binary_crossentropy\",\n",
    "    metrics=[\"accuracy\"],\n",
    ")"
   ]
  },
  {
   "cell_type": "code",
   "execution_count": 5,
   "metadata": {},
   "outputs": [
    {
     "name": "stdout",
     "output_type": "stream",
     "text": [
      "Epoch 1/50\n",
      "13/13 [==============================] - 3s 110ms/step - loss: 2.0401 - accuracy: 0.4902 - val_loss: 2.3323 - val_accuracy: 0.5000\n",
      "Epoch 2/50\n",
      "13/13 [==============================] - 1s 109ms/step - loss: 1.4952 - accuracy: 0.4902 - val_loss: 1.3928 - val_accuracy: 0.4286\n",
      "Epoch 3/50\n",
      "13/13 [==============================] - 2s 118ms/step - loss: 1.3666 - accuracy: 0.4804 - val_loss: 1.2861 - val_accuracy: 0.4286\n",
      "Epoch 4/50\n",
      "13/13 [==============================] - 2s 124ms/step - loss: 1.3184 - accuracy: 0.5490 - val_loss: 1.3296 - val_accuracy: 0.5000\n",
      "Epoch 5/50\n",
      "13/13 [==============================] - 1s 98ms/step - loss: 1.2832 - accuracy: 0.5098 - val_loss: 1.2995 - val_accuracy: 0.5714\n",
      "Epoch 6/50\n",
      "13/13 [==============================] - 1s 92ms/step - loss: 1.2611 - accuracy: 0.5294 - val_loss: 1.2277 - val_accuracy: 0.5000\n",
      "Epoch 7/50\n",
      "13/13 [==============================] - 1s 92ms/step - loss: 1.1861 - accuracy: 0.5784 - val_loss: 1.3120 - val_accuracy: 0.5000\n",
      "Epoch 8/50\n",
      "13/13 [==============================] - 1s 93ms/step - loss: 1.2329 - accuracy: 0.5588 - val_loss: 1.1775 - val_accuracy: 0.5714\n",
      "Epoch 9/50\n",
      "13/13 [==============================] - 1s 105ms/step - loss: 1.1286 - accuracy: 0.6176 - val_loss: 1.8464 - val_accuracy: 0.4286\n",
      "Epoch 10/50\n",
      "13/13 [==============================] - 2s 118ms/step - loss: 1.1142 - accuracy: 0.6569 - val_loss: 1.5305 - val_accuracy: 0.4643\n",
      "Epoch 11/50\n",
      "13/13 [==============================] - 2s 117ms/step - loss: 1.0522 - accuracy: 0.6275 - val_loss: 3.4107 - val_accuracy: 0.4286\n",
      "Epoch 12/50\n",
      "13/13 [==============================] - 1s 99ms/step - loss: 0.9641 - accuracy: 0.7353 - val_loss: 3.5925 - val_accuracy: 0.4286\n",
      "Epoch 13/50\n",
      "13/13 [==============================] - 1s 93ms/step - loss: 1.1112 - accuracy: 0.6471 - val_loss: 4.5495 - val_accuracy: 0.4286\n",
      "Epoch 14/50\n",
      "13/13 [==============================] - 1s 91ms/step - loss: 1.1162 - accuracy: 0.5490 - val_loss: 2.0076 - val_accuracy: 0.4286\n",
      "Epoch 15/50\n",
      "13/13 [==============================] - 1s 92ms/step - loss: 1.0706 - accuracy: 0.5980 - val_loss: 2.2895 - val_accuracy: 0.4286\n",
      "Epoch 16/50\n",
      "13/13 [==============================] - 1s 94ms/step - loss: 1.0961 - accuracy: 0.6078 - val_loss: 1.8119 - val_accuracy: 0.4643\n",
      "Epoch 17/50\n",
      "13/13 [==============================] - 1s 90ms/step - loss: 0.9201 - accuracy: 0.7255 - val_loss: 2.0258 - val_accuracy: 0.5357\n",
      "Epoch 18/50\n",
      "13/13 [==============================] - 1s 91ms/step - loss: 0.8333 - accuracy: 0.7843 - val_loss: 3.8588 - val_accuracy: 0.4286\n",
      "Epoch 19/50\n",
      "13/13 [==============================] - 1s 93ms/step - loss: 0.9308 - accuracy: 0.7157 - val_loss: 3.0084 - val_accuracy: 0.5000\n",
      "Epoch 20/50\n",
      "13/13 [==============================] - 1s 92ms/step - loss: 0.7353 - accuracy: 0.8235 - val_loss: 2.1790 - val_accuracy: 0.7143\n",
      "Epoch 21/50\n",
      "13/13 [==============================] - 1s 92ms/step - loss: 0.7122 - accuracy: 0.8627 - val_loss: 1.5132 - val_accuracy: 0.7143\n",
      "Epoch 22/50\n",
      "13/13 [==============================] - 1s 95ms/step - loss: 0.8022 - accuracy: 0.7353 - val_loss: 1.5394 - val_accuracy: 0.7857\n",
      "Epoch 23/50\n",
      "13/13 [==============================] - 1s 94ms/step - loss: 0.9279 - accuracy: 0.6961 - val_loss: 1.8619 - val_accuracy: 0.5000\n",
      "Epoch 24/50\n",
      "13/13 [==============================] - 1s 92ms/step - loss: 0.8041 - accuracy: 0.7353 - val_loss: 1.8811 - val_accuracy: 0.5000\n",
      "Epoch 25/50\n",
      "13/13 [==============================] - 1s 94ms/step - loss: 0.9343 - accuracy: 0.6667 - val_loss: 2.3932 - val_accuracy: 0.5000\n",
      "Epoch 26/50\n",
      "13/13 [==============================] - 1s 92ms/step - loss: 0.8766 - accuracy: 0.6765 - val_loss: 1.4826 - val_accuracy: 0.5000\n",
      "Epoch 27/50\n",
      "13/13 [==============================] - 1s 96ms/step - loss: 0.7723 - accuracy: 0.7157 - val_loss: 0.9015 - val_accuracy: 0.8571\n",
      "Epoch 28/50\n",
      "13/13 [==============================] - 1s 93ms/step - loss: 0.7527 - accuracy: 0.8039 - val_loss: 2.9204 - val_accuracy: 0.4643\n",
      "Epoch 29/50\n",
      "13/13 [==============================] - 1s 91ms/step - loss: 0.6338 - accuracy: 0.8333 - val_loss: 5.7585 - val_accuracy: 0.4286\n",
      "Epoch 30/50\n",
      "13/13 [==============================] - 1s 95ms/step - loss: 0.8022 - accuracy: 0.7647 - val_loss: 3.7302 - val_accuracy: 0.4286\n",
      "Epoch 31/50\n",
      "13/13 [==============================] - 1s 97ms/step - loss: 0.9337 - accuracy: 0.7157 - val_loss: 1.4097 - val_accuracy: 0.7143\n",
      "Epoch 32/50\n",
      "13/13 [==============================] - 1s 95ms/step - loss: 0.7932 - accuracy: 0.7549 - val_loss: 1.0887 - val_accuracy: 0.5000\n",
      "Epoch 33/50\n",
      "13/13 [==============================] - 1s 98ms/step - loss: 0.8185 - accuracy: 0.7451 - val_loss: 1.2454 - val_accuracy: 0.5000\n",
      "Epoch 34/50\n",
      "13/13 [==============================] - 1s 93ms/step - loss: 0.7397 - accuracy: 0.7549 - val_loss: 1.4841 - val_accuracy: 0.4643\n",
      "Epoch 35/50\n",
      "13/13 [==============================] - 1s 105ms/step - loss: 0.7524 - accuracy: 0.7451 - val_loss: 0.9008 - val_accuracy: 0.5714\n",
      "Epoch 36/50\n",
      "13/13 [==============================] - 2s 150ms/step - loss: 0.7583 - accuracy: 0.7451 - val_loss: 2.8848 - val_accuracy: 0.5000\n",
      "Epoch 37/50\n",
      "13/13 [==============================] - 1s 103ms/step - loss: 0.6817 - accuracy: 0.7745 - val_loss: 5.4405 - val_accuracy: 0.5000\n",
      "Epoch 38/50\n",
      "13/13 [==============================] - 1s 92ms/step - loss: 0.7283 - accuracy: 0.7451 - val_loss: 5.1366 - val_accuracy: 0.5000\n",
      "Epoch 39/50\n",
      "13/13 [==============================] - 1s 96ms/step - loss: 0.7937 - accuracy: 0.7549 - val_loss: 0.3546 - val_accuracy: 0.9643\n",
      "Epoch 40/50\n",
      "13/13 [==============================] - 1s 93ms/step - loss: 0.7874 - accuracy: 0.7157 - val_loss: 6.5564 - val_accuracy: 0.5000\n",
      "Epoch 41/50\n",
      "13/13 [==============================] - 1s 92ms/step - loss: 0.6932 - accuracy: 0.7941 - val_loss: 1.0765 - val_accuracy: 0.6071\n",
      "Epoch 42/50\n",
      "13/13 [==============================] - 1s 95ms/step - loss: 0.5810 - accuracy: 0.8627 - val_loss: 3.7959 - val_accuracy: 0.5000\n",
      "Epoch 43/50\n",
      "13/13 [==============================] - 1s 93ms/step - loss: 0.6685 - accuracy: 0.8039 - val_loss: 7.6128 - val_accuracy: 0.5000\n",
      "Epoch 44/50\n",
      "13/13 [==============================] - 1s 93ms/step - loss: 0.5838 - accuracy: 0.8627 - val_loss: 5.1956 - val_accuracy: 0.4286\n",
      "Epoch 45/50\n",
      "13/13 [==============================] - 1s 93ms/step - loss: 0.7524 - accuracy: 0.7843 - val_loss: 4.8424 - val_accuracy: 0.5000\n",
      "Epoch 46/50\n",
      "13/13 [==============================] - 1s 96ms/step - loss: 0.6708 - accuracy: 0.7451 - val_loss: 9.5320 - val_accuracy: 0.5000\n",
      "Epoch 47/50\n",
      "13/13 [==============================] - 1s 91ms/step - loss: 0.6033 - accuracy: 0.7843 - val_loss: 2.3778 - val_accuracy: 0.8571\n",
      "Epoch 48/50\n",
      "13/13 [==============================] - 1s 95ms/step - loss: 0.5254 - accuracy: 0.8725 - val_loss: 5.3700 - val_accuracy: 0.4286\n",
      "Epoch 49/50\n",
      "13/13 [==============================] - 1s 96ms/step - loss: 0.5766 - accuracy: 0.8431 - val_loss: 6.6483 - val_accuracy: 0.4286\n",
      "Epoch 50/50\n",
      "13/13 [==============================] - 1s 93ms/step - loss: 1.0179 - accuracy: 0.7059 - val_loss: 0.6039 - val_accuracy: 0.7500\n"
     ]
    }
   ],
   "source": [
    "# train\n",
    "history = cnn.fit(x=training_set, validation_data=test_set, epochs=50, batch_size=8)\n"
   ]
  },
  {
   "cell_type": "code",
   "execution_count": 6,
   "metadata": {},
   "outputs": [
    {
     "data": {
      "image/png": "[encoded data removed]",
      "text/plain": [
       "<Figure size 640x480 with 1 Axes>"
      ]
     },
     "metadata": {},
     "output_type": "display_data"
    }
   ],
   "source": [
    "plt.title(\"Training Loss\")\n",
    "plt.ylabel(\"Loss\")\n",
    "plt.xlabel(\"Epoch\")\n",
    "plt.plot(history.history[\"loss\"])\n",
    "plt.show()"
   ]
  },
  {
   "cell_type": "code",
   "execution_count": 7,
   "metadata": {},
   "outputs": [
    {
     "name": "stdout",
     "output_type": "stream",
     "text": [
      "4/4 [==============================] - 0s 20ms/step\n",
      "Accuracy:  0.5357142857142857\n",
      "F1:  0.43478260869565216\n"
     ]
    }
   ],
   "source": [
    "# f1 and accuracy\n",
    "y_pred = cnn.predict(test_set)\n",
    "y_pred = (y_pred > 0.5)\n",
    "y_pred = y_pred.astype(int)\n",
    "y_true = test_set.classes\n",
    "print(\"Accuracy: \", accuracy_score(y_true, y_pred))\n",
    "print(\"F1: \", f1_score(y_true, y_pred))\n"
   ]
  }
 ],
 "metadata": {
  "kernelspec": {
   "display_name": ".venv",
   "language": "python",
   "name": "python3"
  },
  "language_info": {
   "codemirror_mode": {
    "name": "ipython",
    "version": 3
   },
   "file_extension": ".py",
   "mimetype": "text/x-python",
   "name": "python",
   "nbconvert_exporter": "python",
   "pygments_lexer": "ipython3",
   "version": "3.11.6"
  }
 },
 "nbformat": 4,
 "nbformat_minor": 2
}
